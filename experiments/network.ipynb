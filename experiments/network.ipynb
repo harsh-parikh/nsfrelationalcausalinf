{
 "cells": [
  {
   "cell_type": "markdown",
   "metadata": {},
   "source": [
    "# OpenReview Network Effects"
   ]
  },
  {
   "cell_type": "code",
   "execution_count": 1,
   "metadata": {},
   "outputs": [],
   "source": [
    "from common import load_dataset, prestigious\n",
    "\n",
    "import matplotlib.pyplot as plt\n",
    "import networkx as nx"
   ]
  },
  {
   "cell_type": "code",
   "execution_count": null,
   "metadata": {},
   "outputs": [],
   "source": [
    "all_authors, papers, reviews, confs = load_dataset()"
   ]
  },
  {
   "cell_type": "code",
   "execution_count": null,
   "metadata": {},
   "outputs": [],
   "source": [
    "i = 0\n",
    "email_to_id = {}\n",
    "name_to_id = {}\n",
    "\n",
    "for a in all_authors:\n",
    "    email = a['email']\n",
    "    name = a['name']\n",
    "    if email in email_to_id:\n",
    "        id = email_to_id[email]\n",
    "        name_to_id[name] = id\n",
    "    elif name in name_to_id:\n",
    "        id = name_to_id[name]\n",
    "        email_to_id[email] = id\n",
    "    else:\n",
    "        email_to_id[email] = i\n",
    "        name_to_id[name] = i\n",
    "        i += 1"
   ]
  },
  {
   "cell_type": "code",
   "execution_count": null,
   "metadata": {},
   "outputs": [],
   "source": [
    "G = nx.Graph()"
   ]
  },
  {
   "cell_type": "code",
   "execution_count": null,
   "metadata": {},
   "outputs": [],
   "source": [
    "for p in papers:\n",
    "    for i, a in enumerate(p['authors']):\n",
    "        G.add_node(a)\n",
    "        prestige = prestigious(all_authors[p['author_keys'][i]]) if p['author_keys'][i] else False\n",
    "        if prestige:\n",
    "            # bright pink\n",
    "            G.node[a]['viz'] = {'color': {'r': 188, 'g': 98, 'b': 151, 'a': 0}}\n",
    "        else:\n",
    "            # rgb(98,188,135)\n",
    "            G.node[a]['viz'] = {'color': {'r': 98, 'g': 188, 'b': 135, 'a': 0}}\n",
    "            \n",
    "        edges = [(a, x) for x in p['authors'] if x != a]\n",
    "        G.add_edges_from(edges)  "
   ]
  },
  {
   "cell_type": "markdown",
   "metadata": {},
   "source": [
    "## Connectivity Summary"
   ]
  },
  {
   "cell_type": "code",
   "execution_count": null,
   "metadata": {},
   "outputs": [],
   "source": [
    "# print(\"Average node connectivity: \", nx.average_node_connectivity(G))\n",
    "print(\"Number of connected components: \", nx.number_connected_components(G))"
   ]
  },
  {
   "cell_type": "markdown",
   "metadata": {},
   "source": [
    "## Graph Visualization\n",
    "\n",
    "![authors.png](authors.png)"
   ]
  },
  {
   "cell_type": "code",
   "execution_count": null,
   "metadata": {},
   "outputs": [],
   "source": [
    "plt.figure(1,figsize=(12,12)) \n",
    "nx.draw_random(G, node_size=50,font_size=8, with_labels=False)"
   ]
  },
  {
   "cell_type": "markdown",
   "metadata": {},
   "source": [
    "it's art!"
   ]
  },
  {
   "cell_type": "code",
   "execution_count": null,
   "metadata": {},
   "outputs": [],
   "source": [
    "nx.write_gexf(G, \"openreview.gexf\", version=\"1.2draft\")"
   ]
  },
  {
   "cell_type": "code",
   "execution_count": null,
   "metadata": {},
   "outputs": [],
   "source": [
    "A = nx.adjacency_matrix(G)\n",
    "print(A.todense())"
   ]
  },
  {
   "cell_type": "code",
   "execution_count": null,
   "metadata": {},
   "outputs": [],
   "source": []
  }
 ],
 "metadata": {
  "kernelspec": {
   "display_name": "Python 3",
   "language": "python",
   "name": "python3"
  },
  "language_info": {
   "codemirror_mode": {
    "name": "ipython",
    "version": 3
   },
   "file_extension": ".py",
   "mimetype": "text/x-python",
   "name": "python",
   "nbconvert_exporter": "python",
   "pygments_lexer": "ipython3",
   "version": "3.6.8"
  }
 },
 "nbformat": 4,
 "nbformat_minor": 4
}
